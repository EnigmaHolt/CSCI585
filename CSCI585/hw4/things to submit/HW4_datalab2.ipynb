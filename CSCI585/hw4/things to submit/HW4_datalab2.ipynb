{
 "cells": [
  {
   "cell_type": "code",
   "execution_count": 6,
   "metadata": {
    "collapsed": false
   },
   "outputs": [
    {
     "ename": "SyntaxError",
     "evalue": "invalid syntax (<ipython-input-6-c3d7f3ba040c>, line 7)",
     "output_type": "error",
     "traceback": [
      "\u001b[0;36m  File \u001b[0;32m\"<ipython-input-6-c3d7f3ba040c>\"\u001b[0;36m, line \u001b[0;32m7\u001b[0m\n\u001b[0;31m    *A brief description*\u001b[0m\n\u001b[0m    ^\u001b[0m\n\u001b[0;31mSyntaxError\u001b[0m\u001b[0;31m:\u001b[0m invalid syntax\n"
     ]
    }
   ],
   "source": [
    "CS585 - Databases Systems\n",
    "=========================\n",
    "Homework 4  \n",
    "----------\n",
    "### Name\n",
    "#### USC email\n",
    "**A** *brief* description\n"
   ]
  },
  {
   "cell_type": "code",
   "execution_count": 19,
   "metadata": {
    "collapsed": false
   },
   "outputs": [
    {
     "data": {
      "text/html": [
       "\n",
       "    <div class=\"bqtv\" id=\"9_149819667308\"></div>\n",
       "    <br />(rows: 0, time: 1.6s,    23GB processed, job: job_CRyCLQZoQC3cQlreqUGye54GvH0)<br />\n",
       "    <script>\n",
       "\n",
       "      require.config({\n",
       "        paths: {\n",
       "          d3: '//cdnjs.cloudflare.com/ajax/libs/d3/3.4.13/d3',\n",
       "          plotly: 'https://cdn.plot.ly/plotly-1.5.1.min.js?noext',\n",
       "          jquery: '//ajax.googleapis.com/ajax/libs/jquery/2.0.0/jquery.min'\n",
       "        },\n",
       "        map: {\n",
       "          '*': {\n",
       "            datalab: 'nbextensions/gcpdatalab'\n",
       "          }\n",
       "        },\n",
       "        shim: {\n",
       "          plotly: {\n",
       "            deps: ['d3', 'jquery'],\n",
       "            exports: 'plotly'\n",
       "          }\n",
       "        }\n",
       "      });\n",
       "\n",
       "      require(['datalab/charting', 'datalab/element!9_149819667308', 'base/js/events',\n",
       "          'datalab/style!/nbextensions/gcpdatalab/charting.css'],\n",
       "        function(charts, dom, events) {\n",
       "          charts.render('gcharts', dom, events, 'table', [], {\"rows\": [], \"cols\": [{\"type\": \"number\", \"id\": \"source_year\", \"label\": \"source_year\"}, {\"type\": \"number\", \"id\": \"year\", \"label\": \"year\"}, {\"type\": \"number\", \"id\": \"month\", \"label\": \"month\"}, {\"type\": \"number\", \"id\": \"day\", \"label\": \"day\"}, {\"type\": \"number\", \"id\": \"wday\", \"label\": \"wday\"}, {\"type\": \"string\", \"id\": \"state\", \"label\": \"state\"}, {\"type\": \"boolean\", \"id\": \"is_male\", \"label\": \"is_male\"}, {\"type\": \"number\", \"id\": \"child_race\", \"label\": \"child_race\"}, {\"type\": \"number\", \"id\": \"weight_pounds\", \"label\": \"weight_pounds\"}, {\"type\": \"number\", \"id\": \"plurality\", \"label\": \"plurality\"}, {\"type\": \"number\", \"id\": \"apgar_1min\", \"label\": \"apgar_1min\"}, {\"type\": \"number\", \"id\": \"apgar_5min\", \"label\": \"apgar_5min\"}, {\"type\": \"string\", \"id\": \"mother_residence_state\", \"label\": \"mother_residence_state\"}, {\"type\": \"number\", \"id\": \"mother_race\", \"label\": \"mother_race\"}, {\"type\": \"number\", \"id\": \"mother_age\", \"label\": \"mother_age\"}, {\"type\": \"number\", \"id\": \"gestation_weeks\", \"label\": \"gestation_weeks\"}, {\"type\": \"string\", \"id\": \"lmp\", \"label\": \"lmp\"}, {\"type\": \"boolean\", \"id\": \"mother_married\", \"label\": \"mother_married\"}, {\"type\": \"string\", \"id\": \"mother_birth_state\", \"label\": \"mother_birth_state\"}, {\"type\": \"boolean\", \"id\": \"cigarette_use\", \"label\": \"cigarette_use\"}, {\"type\": \"number\", \"id\": \"cigarettes_per_day\", \"label\": \"cigarettes_per_day\"}, {\"type\": \"boolean\", \"id\": \"alcohol_use\", \"label\": \"alcohol_use\"}, {\"type\": \"number\", \"id\": \"drinks_per_week\", \"label\": \"drinks_per_week\"}, {\"type\": \"number\", \"id\": \"weight_gain_pounds\", \"label\": \"weight_gain_pounds\"}, {\"type\": \"number\", \"id\": \"born_alive_alive\", \"label\": \"born_alive_alive\"}, {\"type\": \"number\", \"id\": \"born_alive_dead\", \"label\": \"born_alive_dead\"}, {\"type\": \"number\", \"id\": \"born_dead\", \"label\": \"born_dead\"}, {\"type\": \"number\", \"id\": \"ever_born\", \"label\": \"ever_born\"}, {\"type\": \"number\", \"id\": \"father_race\", \"label\": \"father_race\"}, {\"type\": \"number\", \"id\": \"father_age\", \"label\": \"father_age\"}, {\"type\": \"number\", \"id\": \"record_weight\", \"label\": \"record_weight\"}]},\n",
       "            {\n",
       "              pageSize: 25,\n",
       "              cssClassNames:  {\n",
       "                tableRow: 'gchart-table-row',\n",
       "                headerRow: 'gchart-table-headerrow',\n",
       "                oddTableRow: 'gchart-table-oddrow',\n",
       "                selectedTableRow: 'gchart-table-selectedrow',\n",
       "                hoverTableRow: 'gchart-table-hoverrow',\n",
       "                tableCell: 'gchart-table-cell',\n",
       "                headerCell: 'gchart-table-headercell',\n",
       "                rowNumberCell: 'gchart-table-rownumcell'\n",
       "              }\n",
       "            },\n",
       "            {source_index: 8, fields: 'source_year,year,month,day,wday,state,is_male,child_race,weight_pounds,plurality,apgar_1min,apgar_5min,mother_residence_state,mother_race,mother_age,gestation_weeks,lmp,mother_married,mother_birth_state,cigarette_use,cigarettes_per_day,alcohol_use,drinks_per_week,weight_gain_pounds,born_alive_alive,born_alive_dead,born_dead,ever_born,father_race,father_age,record_weight'},\n",
       "            0,\n",
       "            0);\n",
       "        }\n",
       "      );\n",
       "    </script>\n",
       "  "
      ],
      "text/plain": [
       "QueryResultsTable job_CRyCLQZoQC3cQlreqUGye54GvH0"
      ]
     },
     "execution_count": 19,
     "metadata": {},
     "output_type": "execute_result"
    }
   ],
   "source": [
    "%%bq query\n",
    "SELECT wday\n",
    "FROM `publicdata.samples.natality` where year = 1992 and month = 8 and  day  = 4"
   ]
  },
  {
   "cell_type": "code",
   "execution_count": 27,
   "metadata": {
    "collapsed": false
   },
   "outputs": [],
   "source": [
    "%%bq query --name year_count\n",
    "SELECT CAST(source_year AS string) AS year, COUNT(source_year) as year_number\n",
    "FROM `publicdata.samples.natality` where year <> 1992 and month = 8 and  day  = 4 \n",
    "GROUP BY source_year\n",
    "ORDER BY source_year"
   ]
  },
  {
   "cell_type": "code",
   "execution_count": 29,
   "metadata": {
    "collapsed": false
   },
   "outputs": [
    {
     "data": {
      "text/html": [
       "\n",
       "    <div class=\"bqgc-container\">\n",
       "      \n",
       "      <div class=\"bqgc \" id=\"5_149819885396\">\n",
       "      </div>\n",
       "    </div>\n",
       "    <script>\n",
       "\n",
       "      require.config({\n",
       "        paths: {\n",
       "          d3: '//cdnjs.cloudflare.com/ajax/libs/d3/3.4.13/d3',\n",
       "          plotly: 'https://cdn.plot.ly/plotly-1.5.1.min.js?noext',\n",
       "          jquery: '//ajax.googleapis.com/ajax/libs/jquery/2.0.0/jquery.min'\n",
       "        },\n",
       "        map: {\n",
       "          '*': {\n",
       "            datalab: 'nbextensions/gcpdatalab'\n",
       "          }\n",
       "        },\n",
       "        shim: {\n",
       "          plotly: {\n",
       "            deps: ['d3', 'jquery'],\n",
       "            exports: 'plotly'\n",
       "          }\n",
       "        }\n",
       "      });\n",
       "\n",
       "      require(['datalab/charting',\n",
       "               'datalab/element!5_149819885396',\n",
       "               'base/js/events',\n",
       "               'datalab/style!/nbextensions/gcpdatalab/charting.css'\n",
       "              ],\n",
       "        function(charts, dom, events) {\n",
       "          charts.render(\n",
       "              'gcharts',\n",
       "              dom,\n",
       "              events,\n",
       "              'pie',\n",
       "              [],\n",
       "              {\"rows\": [{\"c\": [{\"v\": \"1969\"}, {\"v\": 5225}]}, {\"c\": [{\"v\": \"1970\"}, {\"v\": 5590}]}, {\"c\": [{\"v\": \"1971\"}, {\"v\": 5266}]}, {\"c\": [{\"v\": \"1972\"}, {\"v\": 5086}]}, {\"c\": [{\"v\": \"1973\"}, {\"v\": 4740}]}, {\"c\": [{\"v\": \"1974\"}, {\"v\": 5023}]}, {\"c\": [{\"v\": \"1975\"}, {\"v\": 6787}]}, {\"c\": [{\"v\": \"1976\"}, {\"v\": 7047}]}, {\"c\": [{\"v\": \"1977\"}, {\"v\": 8234}]}, {\"c\": [{\"v\": \"1978\"}, {\"v\": 8610}]}, {\"c\": [{\"v\": \"1979\"}, {\"v\": 8624}]}, {\"c\": [{\"v\": \"1980\"}, {\"v\": 9891}]}, {\"c\": [{\"v\": \"1981\"}, {\"v\": 10681}]}, {\"c\": [{\"v\": \"1982\"}, {\"v\": 10315}]}, {\"c\": [{\"v\": \"1983\"}, {\"v\": 9822}]}, {\"c\": [{\"v\": \"1984\"}, {\"v\": 8792}]}, {\"c\": [{\"v\": \"1985\"}, {\"v\": 8804}]}, {\"c\": [{\"v\": \"1986\"}, {\"v\": 11264}]}, {\"c\": [{\"v\": \"1987\"}, {\"v\": 11720}]}, {\"c\": [{\"v\": \"1988\"}, {\"v\": 12156}]}], \"cols\": [{\"type\": \"string\", \"id\": \"year\", \"label\": \"year\"}, {\"type\": \"number\", \"id\": \"year_number\", \"label\": \"year_number\"}]},\n",
       "              {},\n",
       "              {\"fields\": \"year,year_number\", \"source_index\": 0, \"name\": 0},\n",
       "              0,\n",
       "              20);\n",
       "          }\n",
       "        );\n",
       "    </script>\n",
       "  "
      ],
      "text/plain": [
       "<IPython.core.display.HTML object>"
      ]
     },
     "execution_count": 29,
     "metadata": {},
     "output_type": "execute_result"
    },
    {
     "data": {
      "image/png": "[encoded data removed]"
     },
     "metadata": {
      "source_id": "5_149819885396"
     },
     "output_type": "display_data"
    }
   ],
   "source": [
    "%chart pie --data year_count --fields year,year_number"
   ]
  },
  {
   "cell_type": "code",
   "execution_count": null,
   "metadata": {
    "collapsed": true
   },
   "outputs": [],
   "source": []
  }
 ],
 "metadata": {
  "kernelspec": {
   "display_name": "Python 2",
   "language": "python",
   "name": "python2"
  },
  "language_info": {
   "codemirror_mode": {
    "name": "ipython",
    "version": 2
   },
   "file_extension": ".py",
   "mimetype": "text/x-python",
   "name": "python",
   "nbconvert_exporter": "python",
   "pygments_lexer": "ipython2",
   "version": "2.7.9"
  }
 },
 "nbformat": 4,
 "nbformat_minor": 2
}
